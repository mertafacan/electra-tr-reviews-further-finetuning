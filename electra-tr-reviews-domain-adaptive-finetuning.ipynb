{
 "cells": [
  {
   "cell_type": "markdown",
   "id": "5bd42176",
   "metadata": {},
   "source": [
    "# Turkish Product Reviews — Sentiment Analysis\n",
    "\n",
    "This notebook evaluates Turkish product review data using **incidelen/electra-small-turkish-sentiment-analysis-cased** for:\n",
    "1) Baseline assessment with the published fine-tuned sentiment-analysis checkpoint, and\n",
    "2) Domain Adaptive fine-tuning the same checkpoint for comparison.\n",
    "\n",
    "> Data: In `turkish_product_reviews_train.csv`, columns are `sentence` and `sentiment` (0=NEGATIVE, 1=POSITIVE)"
   ]
  },
  {
   "cell_type": "code",
   "execution_count": 1,
   "id": "8f59f5b8",
   "metadata": {},
   "outputs": [
    {
     "name": "stdout",
     "output_type": "stream",
     "text": [
      "CUDA available: True\n"
     ]
    }
   ],
   "source": [
    "# If you have CUDA, install the appropriate torch version: https://pytorch.org/get-started/locally/\n",
    "\n",
    "import torch, evaluate\n",
    "\n",
    "import pandas as pd\n",
    "\n",
    "import matplotlib.pyplot as plt\n",
    "import seaborn as sns\n",
    "\n",
    "from sklearn.model_selection import train_test_split\n",
    "from sklearn.metrics import accuracy_score, classification_report, confusion_matrix\n",
    "\n",
    "from datasets import Dataset\n",
    "from transformers import (\n",
    "    AutoTokenizer,\n",
    "    AutoModelForSequenceClassification,\n",
    "    DataCollatorWithPadding,\n",
    "    TrainingArguments,\n",
    "    Trainer,\n",
    "    pipeline,\n",
    ")\n",
    "\n",
    "print(\"CUDA available:\", torch.cuda.is_available())"
   ]
  },
  {
   "cell_type": "code",
   "execution_count": 2,
   "id": "fe2f5204",
   "metadata": {},
   "outputs": [
    {
     "data": {
      "text/html": [
       "<div>\n",
       "<style scoped>\n",
       "    .dataframe tbody tr th:only-of-type {\n",
       "        vertical-align: middle;\n",
       "    }\n",
       "\n",
       "    .dataframe tbody tr th {\n",
       "        vertical-align: top;\n",
       "    }\n",
       "\n",
       "    .dataframe thead th {\n",
       "        text-align: right;\n",
       "    }\n",
       "</style>\n",
       "<table border=\"1\" class=\"dataframe\">\n",
       "  <thead>\n",
       "    <tr style=\"text-align: right;\">\n",
       "      <th></th>\n",
       "      <th>sentence</th>\n",
       "      <th>sentiment</th>\n",
       "    </tr>\n",
       "  </thead>\n",
       "  <tbody>\n",
       "    <tr>\n",
       "      <th>0</th>\n",
       "      <td>fena değil paraya göre iyi.</td>\n",
       "      <td>1</td>\n",
       "    </tr>\n",
       "    <tr>\n",
       "      <th>1</th>\n",
       "      <td>ürün kaliteli ve çok kullanışlı kargo ya veril...</td>\n",
       "      <td>1</td>\n",
       "    </tr>\n",
       "    <tr>\n",
       "      <th>2</th>\n",
       "      <td>fiyat-performans karşılaştırması yaptığınızda ...</td>\n",
       "      <td>1</td>\n",
       "    </tr>\n",
       "    <tr>\n",
       "      <th>3</th>\n",
       "      <td>bu fiyata çok iyi</td>\n",
       "      <td>1</td>\n",
       "    </tr>\n",
       "    <tr>\n",
       "      <th>4</th>\n",
       "      <td>fiyat ve performans olarak gayet iyi</td>\n",
       "      <td>1</td>\n",
       "    </tr>\n",
       "  </tbody>\n",
       "</table>\n",
       "</div>"
      ],
      "text/plain": [
       "                                            sentence  sentiment\n",
       "0                        fena değil paraya göre iyi.          1\n",
       "1  ürün kaliteli ve çok kullanışlı kargo ya veril...          1\n",
       "2  fiyat-performans karşılaştırması yaptığınızda ...          1\n",
       "3                                  bu fiyata çok iyi          1\n",
       "4               fiyat ve performans olarak gayet iyi          1"
      ]
     },
     "execution_count": 2,
     "metadata": {},
     "output_type": "execute_result"
    }
   ],
   "source": [
    "# Data\n",
    "df = pd.read_csv(\"turkish_product_reviews_train.csv\")\n",
    "df.head()"
   ]
  },
  {
   "cell_type": "code",
   "execution_count": 3,
   "id": "15569e3f",
   "metadata": {},
   "outputs": [
    {
     "name": "stdout",
     "output_type": "stream",
     "text": [
      "<class 'pandas.core.frame.DataFrame'>\n",
      "RangeIndex: 235165 entries, 0 to 235164\n",
      "Data columns (total 2 columns):\n",
      " #   Column     Non-Null Count   Dtype \n",
      "---  ------     --------------   ----- \n",
      " 0   sentence   235144 non-null  object\n",
      " 1   sentiment  235165 non-null  int64 \n",
      "dtypes: int64(1), object(1)\n",
      "memory usage: 3.6+ MB\n"
     ]
    }
   ],
   "source": [
    "df.info()"
   ]
  },
  {
   "cell_type": "code",
   "execution_count": 4,
   "id": "193d2419",
   "metadata": {},
   "outputs": [
    {
     "data": {
      "text/plain": [
       "sentiment\n",
       "1    220284\n",
       "0     14881\n",
       "Name: count, dtype: int64"
      ]
     },
     "execution_count": 4,
     "metadata": {},
     "output_type": "execute_result"
    }
   ],
   "source": [
    "df.value_counts(\"sentiment\")"
   ]
  },
  {
   "cell_type": "code",
   "execution_count": 5,
   "id": "00af5ae4",
   "metadata": {},
   "outputs": [
    {
     "name": "stdout",
     "output_type": "stream",
     "text": [
      "Train / Val / Test: 164600 / 35272 / 35272\n"
     ]
    }
   ],
   "source": [
    "# Data cleaning\n",
    "df = df[['sentence', 'sentiment']].dropna()\n",
    "df['sentiment'] = df['sentiment'].astype(int)\n",
    "\n",
    "# Split train/validation/test with stratified split\n",
    "train_df, temp_df = train_test_split(df, test_size=0.3, stratify=df['sentiment'], random_state=42)\n",
    "val_df, test_df = train_test_split(temp_df, test_size=0.5, stratify=temp_df['sentiment'], random_state=42)\n",
    "\n",
    "train_ds = Dataset.from_pandas(train_df.reset_index(drop=True))\n",
    "val_ds = Dataset.from_pandas(val_df.reset_index(drop=True))\n",
    "test_ds = Dataset.from_pandas(test_df.reset_index(drop=True))\n",
    "print(f\"Train / Val / Test: {len(train_ds)} / {len(val_ds)} / {len(test_ds)}\")"
   ]
  },
  {
   "cell_type": "markdown",
   "id": "97146d08",
   "metadata": {},
   "source": [
    "## 1) Baseline: published fine-tuned model\n",
    "Using the fine-tuned checkpoint directly to predict sentiments on the test set."
   ]
  },
  {
   "cell_type": "code",
   "execution_count": 6,
   "id": "20b7642a",
   "metadata": {},
   "outputs": [
    {
     "name": "stdout",
     "output_type": "stream",
     "text": [
      "Test ACC: 0.8532\n",
      "              precision    recall  f1-score   support\n",
      "\n",
      "           0       0.28      0.85      0.42      2232\n",
      "           1       0.99      0.85      0.92     33040\n",
      "\n",
      "    accuracy                           0.85     35272\n",
      "   macro avg       0.64      0.85      0.67     35272\n",
      "weighted avg       0.94      0.85      0.88     35272\n",
      "\n"
     ]
    }
   ],
   "source": [
    "# Base model\n",
    "\n",
    "MODEL_NAME = \"incidelen/electra-small-turkish-sentiment-analysis-cased\"\n",
    "tokenizer = AutoTokenizer.from_pretrained(MODEL_NAME)\n",
    "model = AutoModelForSequenceClassification.from_pretrained(MODEL_NAME).to(\"cuda\" if torch.cuda.is_available() else \"cpu\").eval()\n",
    "\n",
    "# Model Inference output is 3 but we only need 2\n",
    "\n",
    "NEGATIVE, NEUTRAL, POSITIVE = 0, 1, 2  # model.config\n",
    "\n",
    "def predict_binary(texts, batch_size=256, max_len=160): \n",
    "    predictions = []\n",
    "    for i in range(0, len(texts), batch_size):\n",
    "        inputs = tokenizer(texts[i:i+batch_size], truncation=True, padding=True, max_length=max_len, return_tensors=\"pt\").to(model.device)\n",
    "        with torch.inference_mode():\n",
    "            logits = model(**inputs).logits[:, [NEGATIVE, POSITIVE]]\n",
    "            predictions += logits.argmax(1).cpu().tolist()  # 0=neg, 1=pos\n",
    "    return predictions\n",
    "\n",
    "preds = predict_binary(test_ds[\"sentence\"])\n",
    "reports_base = classification_report(test_ds[\"sentiment\"], preds)\n",
    "acc_base = accuracy_score(test_ds[\"sentiment\"], preds)\n",
    "print(f\"Test ACC: {acc_base:.4f}\")\n",
    "print(reports_base)"
   ]
  },
  {
   "cell_type": "markdown",
   "id": "b59ad8e4",
   "metadata": {},
   "source": [
    "## 2) DAFT (DOMAIN ADAPTIVE FINE-TUNING) STAGE\n",
    "Fine-tuning the published sentiment-analysis checkpoint on the training data."
   ]
  },
  {
   "cell_type": "code",
   "execution_count": 7,
   "id": "9a5ce4f8",
   "metadata": {},
   "outputs": [
    {
     "data": {
      "application/vnd.jupyter.widget-view+json": {
       "model_id": "3003662121c44be4ba391d30c7acbcf6",
       "version_major": 2,
       "version_minor": 0
      },
      "text/plain": [
       "Map:   0%|          | 0/164600 [00:00<?, ? examples/s]"
      ]
     },
     "metadata": {},
     "output_type": "display_data"
    },
    {
     "data": {
      "application/vnd.jupyter.widget-view+json": {
       "model_id": "bab4ce76ea4b4d9db2511e4a448c8b57",
       "version_major": 2,
       "version_minor": 0
      },
      "text/plain": [
       "Map:   0%|          | 0/35272 [00:00<?, ? examples/s]"
      ]
     },
     "metadata": {},
     "output_type": "display_data"
    },
    {
     "data": {
      "application/vnd.jupyter.widget-view+json": {
       "model_id": "489326e58bcc4b698c2420e90f419c43",
       "version_major": 2,
       "version_minor": 0
      },
      "text/plain": [
       "Map:   0%|          | 0/35272 [00:00<?, ? examples/s]"
      ]
     },
     "metadata": {},
     "output_type": "display_data"
    },
    {
     "name": "stderr",
     "output_type": "stream",
     "text": [
      "Some weights of ElectraForSequenceClassification were not initialized from the model checkpoint at incidelen/electra-small-turkish-sentiment-analysis-cased and are newly initialized because the shapes did not match:\n",
      "- classifier.out_proj.bias: found shape torch.Size([3]) in the checkpoint and torch.Size([2]) in the model instantiated\n",
      "- classifier.out_proj.weight: found shape torch.Size([3, 256]) in the checkpoint and torch.Size([2, 256]) in the model instantiated\n",
      "You should probably TRAIN this model on a down-stream task to be able to use it for predictions and inference.\n"
     ]
    }
   ],
   "source": [
    "# Model label configuration\n",
    "id2label = {0: \"NEGATIVE\", 1: \"POSITIVE\"}\n",
    "label2id = {v: k for k, v in id2label.items()}\n",
    "accuracy = evaluate.load(\"accuracy\")\n",
    "\n",
    "\n",
    "# Tokenization\n",
    "tok = AutoTokenizer.from_pretrained(MODEL_NAME)\n",
    "def tokenize_fn(batch):\n",
    "    return tok(batch[\"sentence\"], truncation=True, max_length=160)\n",
    "\n",
    "train_tok = train_ds.map(tokenize_fn, batched=True, remove_columns=train_ds.column_names)\n",
    "val_tok = val_ds.map(tokenize_fn, batched=True, remove_columns=val_ds.column_names)\n",
    "test_tok = test_ds.map(tokenize_fn, batched=True, remove_columns=test_ds.column_names)\n",
    "\n",
    "# Add labels\n",
    "train_tok = train_tok.add_column(\"labels\", train_ds['sentiment'])\n",
    "val_tok = val_tok.add_column(\"labels\", val_ds['sentiment'])\n",
    "test_tok = test_tok.add_column(\"labels\", test_ds['sentiment'])\n",
    "\n",
    "# Compute metrics\n",
    "def compute_metrics(eval_pred):\n",
    "    preds, labels = eval_pred\n",
    "    preds = preds.argmax(axis=-1)\n",
    "    return accuracy.compute(predictions=preds, references=labels)\n",
    "\n",
    "data_collator = DataCollatorWithPadding(tokenizer=tok)\n",
    "\n",
    "model = AutoModelForSequenceClassification.from_pretrained(\n",
    "    MODEL_NAME, num_labels=2, id2label=id2label, label2id=label2id,\n",
    "    ignore_mismatched_sizes=True)"
   ]
  },
  {
   "cell_type": "code",
   "execution_count": 11,
   "id": "c9325cbf",
   "metadata": {},
   "outputs": [
    {
     "data": {
      "text/html": [
       "\n",
       "    <div>\n",
       "      \n",
       "      <progress value='3087' max='3087' style='width:300px; height:20px; vertical-align: middle;'></progress>\n",
       "      [3087/3087 06:24, Epoch 0/1]\n",
       "    </div>\n",
       "    <table border=\"1\" class=\"dataframe\">\n",
       "  <thead>\n",
       " <tr style=\"text-align: left;\">\n",
       "      <th>Epoch</th>\n",
       "      <th>Training Loss</th>\n",
       "      <th>Validation Loss</th>\n",
       "      <th>Accuracy</th>\n",
       "    </tr>\n",
       "  </thead>\n",
       "  <tbody>\n",
       "    <tr>\n",
       "      <td>0</td>\n",
       "      <td>0.115200</td>\n",
       "      <td>0.111801</td>\n",
       "      <td>0.961386</td>\n",
       "    </tr>\n",
       "  </tbody>\n",
       "</table><p>"
      ],
      "text/plain": [
       "<IPython.core.display.HTML object>"
      ]
     },
     "metadata": {},
     "output_type": "display_data"
    },
    {
     "data": {
      "text/plain": [
       "TrainOutput(global_step=3087, training_loss=0.10175321764029999, metrics={'train_runtime': 384.9231, 'train_samples_per_second': 256.571, 'train_steps_per_second': 8.02, 'total_flos': 670664842226688.0, 'train_loss': 0.10175321764029999, 'epoch': 0.6001166407465007})"
      ]
     },
     "execution_count": 11,
     "metadata": {},
     "output_type": "execute_result"
    }
   ],
   "source": [
    "# Training arguments\n",
    "use_cuda = torch.cuda.is_available()\n",
    "args = TrainingArguments(\n",
    "    output_dir=\"out-fine-tuned-model\",\n",
    "    per_device_train_batch_size=32,\n",
    "    per_device_eval_batch_size=64,\n",
    "    num_train_epochs=0.6,\n",
    "    learning_rate=2e-5,\n",
    "    weight_decay=0.01,\n",
    "    eval_strategy=\"epoch\",\n",
    "    save_strategy=\"epoch\",\n",
    "    load_best_model_at_end=True,\n",
    "    metric_for_best_model=\"accuracy\",\n",
    "    greater_is_better=True,\n",
    "    fp16=use_cuda,\n",
    "    logging_steps=50,\n",
    "    report_to=\"none\",\n",
    "    seed=42,\n",
    ")\n",
    "\n",
    "\n",
    "# Trainer\n",
    "trainer = Trainer(\n",
    "    model=model,\n",
    "    args=args,\n",
    "    train_dataset=train_tok,\n",
    "    eval_dataset=val_tok,\n",
    "    processing_class=tok,\n",
    "    data_collator=data_collator,\n",
    "    compute_metrics=compute_metrics\n",
    ")\n",
    "\n",
    "# Train\n",
    "trainer.train()"
   ]
  },
  {
   "cell_type": "markdown",
   "id": "507993bc",
   "metadata": {},
   "source": [
    "## 3) Evaluation with Fine-Tuned Model\n",
    "\n",
    "The performance of the fine-tuned model on the test data is compared with the baseline model."
   ]
  },
  {
   "cell_type": "code",
   "execution_count": null,
   "id": "68f6b02c",
   "metadata": {},
   "outputs": [
    {
     "name": "stderr",
     "output_type": "stream",
     "text": [
      "Device set to use cuda:0\n"
     ]
    },
    {
     "name": "stdout",
     "output_type": "stream",
     "text": [
      "              precision    recall  f1-score   support\n",
      "\n",
      "           0       0.28      0.85      0.42      2232\n",
      "           1       0.99      0.85      0.92     33040\n",
      "\n",
      "    accuracy                           0.85     35272\n",
      "   macro avg       0.64      0.85      0.67     35272\n",
      "weighted avg       0.94      0.85      0.88     35272\n",
      "\n",
      "------------------------------------------------------------\n",
      "              precision    recall  f1-score   support\n",
      "\n",
      "           0       0.78      0.53      0.63      2232\n",
      "           1       0.97      0.99      0.98     33040\n",
      "\n",
      "    accuracy                           0.96     35272\n",
      "   macro avg       0.87      0.76      0.80     35272\n",
      "weighted avg       0.96      0.96      0.96     35272\n",
      "\n",
      "************************************************************\n",
      "[Base] Test accuracy: 0.8532\n",
      "[After finetuning] Test accuracy: 0.9607\n"
     ]
    }
   ],
   "source": [
    "# Test with the best model\n",
    "\n",
    "best_dir = trainer.state.best_model_checkpoint or args.output_dir\n",
    "\n",
    "# clf_best = pipeline(\"text-classification\", model=\"mertafacan/electra-tr-product-reviews-daft\", tokenizer=\"mertafacan/electra-tr-product-reviews-daft\", use_fast=True, device=0 if torch.cuda.is_available() else -1)\n",
    "\n",
    "clf_best = pipeline(\"text-classification\", model=best_dir, tokenizer=best_dir, use_fast=True,\n",
    "                    device=0 if torch.cuda.is_available() else -1)\n",
    "\n",
    "sentences = list(test_ds[\"sentence\"])\n",
    "predictions = clf_best(sentences,batch_size=256,truncation=True,padding=\"max_length\",max_length=160)\n",
    "test_pred_labels = [1 if p[\"label\"] == \"POSITIVE\" else 0 for p in predictions]\n",
    "\n",
    "print(reports_base)\n",
    "print(\"-\"*60)\n",
    "print(classification_report(test_ds[\"sentiment\"], test_pred_labels))\n",
    "print(\"*\"*60)\n",
    "print(f\"[Base] Test accuracy: {acc_base:.4f}\")\n",
    "print(f\"[After finetuning] Test accuracy: {accuracy_score(test_ds[\"sentiment\"], test_pred_labels):.4f}\")"
   ]
  },
  {
   "cell_type": "code",
   "execution_count": 13,
   "id": "9e9b3277",
   "metadata": {},
   "outputs": [
    {
     "data": {
      "image/png": "[encoded data removed]",
      "text/plain": [
       "<Figure size 1200x500 with 4 Axes>"
      ]
     },
     "metadata": {},
     "output_type": "display_data"
    }
   ],
   "source": [
    "# Confusion Matrices\n",
    "fig, axes = plt.subplots(1, 2, figsize=(12, 5))\n",
    "\n",
    "cm_before = confusion_matrix(test_ds[\"sentiment\"], preds)\n",
    "sns.heatmap(cm_before, annot=True, fmt='d', cmap='Blues', xticklabels=['NEGATIVE', 'POSITIVE'], yticklabels=['NEGATIVE', 'POSITIVE'], ax=axes[0])\n",
    "axes[0].set_xlabel('Predicted')\n",
    "axes[0].set_ylabel('Actual')\n",
    "axes[0].set_title('Confusion Matrix (Before Finetuning)')\n",
    "\n",
    "cm_after = confusion_matrix(test_ds[\"sentiment\"], test_pred_labels)\n",
    "sns.heatmap(cm_after, annot=True, fmt='d', cmap='Blues', xticklabels=['NEGATIVE', 'POSITIVE'], yticklabels=['NEGATIVE', 'POSITIVE'], ax=axes[1])\n",
    "axes[1].set_xlabel('Predicted')\n",
    "axes[1].set_ylabel('Actual')\n",
    "axes[1].set_title('Confusion Matrix (After Finetuning)')\n",
    "\n",
    "plt.tight_layout()\n",
    "plt.show()"
   ]
  },
  {
   "cell_type": "markdown",
   "id": "98c648c6",
   "metadata": {},
   "source": [
    "## Conclusion & Key Takeaways\n",
    "\n",
    "- After fine-tuning, test accuracy increased from **85.3% → 96.0% (+12.55%)**; error rate **14.7% → 4.0%** (−73%).\n",
    "- **Class 1 (POSITIVE):** Recall **85% → 99%**; missed positives (FN) **−93%**.\n",
    "- **Class 0 (NEGATIVE):** Recall **85% → 52%**; false positives **+218%**.\n",
    "- In the positive class, the model now captures almost all examples (recall 85% → 99%) with only a slight drop in precision; in contrast, for the negative class, precision improved but recall fell significantly (85% → 52%). In short, the model has become **skewed toward the positive side.**\n",
    "\n",
    "**What can be done?** Short term: **tune the decision threshold**, use **SMOTE/oversampling**, and apply **class weights** or **focal loss** to rebalance the minority class."
   ]
  }
 ],
 "metadata": {
  "kernelspec": {
   "display_name": "electra-tr-reviews-further-finetuning",
   "language": "python",
   "name": "python3"
  },
  "language_info": {
   "codemirror_mode": {
    "name": "ipython",
    "version": 3
   },
   "file_extension": ".py",
   "mimetype": "text/x-python",
   "name": "python",
   "nbconvert_exporter": "python",
   "pygments_lexer": "ipython3",
   "version": "3.12.3"
  }
 },
 "nbformat": 4,
 "nbformat_minor": 5
}
